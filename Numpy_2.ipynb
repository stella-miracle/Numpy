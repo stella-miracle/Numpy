{
  "nbformat": 4,
  "nbformat_minor": 0,
  "metadata": {
    "colab": {
      "name": "Numpy_2.ipynb",
      "provenance": [],
      "collapsed_sections": [],
      "authorship_tag": "ABX9TyNbzHmLaGaVDjszLqlh+Feg"
    },
    "kernelspec": {
      "name": "python3",
      "display_name": "Python 3"
    },
    "language_info": {
      "name": "python"
    }
  },
  "cells": [
    {
      "cell_type": "markdown",
      "metadata": {
        "id": "CjxYO9d21rFG"
      },
      "source": [
        "5. 다섯번째 실습 - 기본연산\n"
      ]
    },
    {
      "cell_type": "code",
      "metadata": {
        "colab": {
          "base_uri": "https://localhost:8080/"
        },
        "id": "WweUEbEmjcKE",
        "outputId": "fca89a7a-1610-4d8c-93b7-7d7664295ba3"
      },
      "source": [
        "import numpy as np\n",
        "\n",
        "# 샘플 데이터 생성\n",
        "a = np.arange(1,10).reshape(3,3) \n",
        "# 원래 1~9까지의 1차원 배열을 (3,3)의 2 차원으로 reshape 해서 출력 \n",
        "print(a)\n",
        "\n",
        "print()\n",
        "\n",
        "b = np.arange(9,0,-1).reshape(3,3)\n",
        "# 여기도 마찬가지로 reshape\n",
        "# 중요한 점은 둘다 원본, 사본 -> data : 9 로 동일\n",
        "print(b)\n",
        "\n",
        "print()\n",
        "\n",
        "# 연산\n",
        "c = a+b\n",
        "print(\"+ 사용:\",c)\n",
        "# 또는\n",
        "print(\"add 사용:\",np.add(a,b))\n",
        "\n",
        "print()\n",
        "\n",
        "print(\"/사용:\",a/b)\n",
        "print(\"divide 사용:\",np.divide(a,b))\n",
        "\n",
        "print()\n",
        "\n",
        "# 비교 연산 - 모든 배열의 요소별로 T/F 가 출력된다.\n",
        "print(a>b)\n",
        "print(a != b)\n",
        "\n",
        "print()\n",
        "\n",
        "import time\n",
        "\n",
        "# python 과 numpy 의 계산속도 비교 \n",
        "python = range(10000000)\n",
        "start = time.time()\n",
        "for i in python:\n",
        "  i +1 \n",
        "end = time.time() \n",
        "print(\"python 걸린시간:\",(end-start)*1000 )\n",
        "\n",
        "print()\n",
        "\n",
        "numpy = np.arange(10000000)\n",
        "_start = time.time()\n",
        "numpy +1\n",
        "_end = time.time()\n",
        "print(\"numpy 걸린시간:\", (_end-_start)*1000)\n",
        "\n",
        "# python > numpy : 즉 고차원의 많은 데이터의 계산도 효율적으로 가능하다! "
      ],
      "execution_count": null,
      "outputs": [
        {
          "output_type": "stream",
          "text": [
            "[[1 2 3]\n",
            " [4 5 6]\n",
            " [7 8 9]]\n",
            "\n",
            "[[9 8 7]\n",
            " [6 5 4]\n",
            " [3 2 1]]\n",
            "\n",
            "+ 사용: [[10 10 10]\n",
            " [10 10 10]\n",
            " [10 10 10]]\n",
            "add 사용: [[10 10 10]\n",
            " [10 10 10]\n",
            " [10 10 10]]\n",
            "\n",
            "/사용: [[0.11111111 0.25       0.42857143]\n",
            " [0.66666667 1.         1.5       ]\n",
            " [2.33333333 4.         9.        ]]\n",
            "divide 사용: [[0.11111111 0.25       0.42857143]\n",
            " [0.66666667 1.         1.5       ]\n",
            " [2.33333333 4.         9.        ]]\n",
            "\n",
            "[[False False False]\n",
            " [False False  True]\n",
            " [ True  True  True]]\n",
            "[[ True  True  True]\n",
            " [ True False  True]\n",
            " [ True  True  True]]\n",
            "\n",
            "python 걸린시간: 855.8552265167236\n",
            "\n",
            "numpy 걸린시간: 33.66374969482422\n"
          ],
          "name": "stdout"
        }
      ]
    },
    {
      "cell_type": "markdown",
      "metadata": {
        "id": "Xc-Oitkt4T6O"
      },
      "source": [
        "6. 여섯번째 실습 - 집계 함수"
      ]
    },
    {
      "cell_type": "code",
      "metadata": {
        "colab": {
          "base_uri": "https://localhost:8080/"
        },
        "id": "PjWxqKXn4ist",
        "outputId": "36514fa1-1b91-4b1f-9600-205d21069a63"
      },
      "source": [
        "import numpy as np\n",
        "\n",
        "\n",
        "#샘플 데이터 생성 \n",
        "sample = np.arange(1,10).reshape(3,3)\n",
        "print(sample)\n",
        "print()\n",
        "\n",
        "\n",
        "# axis = None 일때 (행,열 따지지 않을 때)\n",
        "print(\"sum\",sample.sum()) # 모든 요소의 합\n",
        "print(\"mead\",sample.mean()) # 모든 요소의 합 / 9\n",
        "print(\"std\",sample.std()) # 표준편차\n",
        "print(\"max\",sample.max()) # 모든 요수 중의 큰값\n",
        "print(\"min\",sample.min()) # 모든 요수 중의 작은값 \n",
        "\n",
        "\n",
        "print()\n",
        "\n",
        "\n",
        "# axis = 0 일때 (즉,열만 판단할때 )\n",
        "print(\"sum\",sample.sum(axis=0)) # 각각 열의  합\n",
        "print(\"mead\",sample.mean(axis=0)) # 각각 열의 합 / 9\n",
        "print(\"std\",sample.std(axis=0)) # 표준편차\n",
        "print(\"max\",sample.max(axis=0)) #각 열 중에 가장  큰값\n",
        "print(\"min\",sample.min(axis=0)) #각 열 중에 가장 작은값\n",
        "\n",
        "print()\n",
        "\n",
        "# axis = 1 일때 (행끼리 판단할 때)\n",
        "print(\"sum\",sample.sum(axis=1)) # 각 행의 합\n",
        "print(\"mead\",sample.mean(axis=1)) # 각 행의 합 / 9\n",
        "print(\"std\",sample.std(axis=1)) # 표준편차\n",
        "print(\"max\",sample.max(axis=1)) # 각 행 중의 큰값\n",
        "print(\"min\",sample.min(axis=1)) # 각 행 중의 작은값 \n"
      ],
      "execution_count": null,
      "outputs": [
        {
          "output_type": "stream",
          "text": [
            "[[1 2 3]\n",
            " [4 5 6]\n",
            " [7 8 9]]\n",
            "\n",
            "sum 45\n",
            "mead 5.0\n",
            "std 2.581988897471611\n",
            "max 9\n",
            "min 1\n",
            "\n",
            "sum [12 15 18]\n",
            "mead [4. 5. 6.]\n",
            "std [2.44948974 2.44948974 2.44948974]\n",
            "max [7 8 9]\n",
            "min [1 2 3]\n",
            "\n",
            "sum [ 6 15 24]\n",
            "mead [2. 5. 8.]\n",
            "std [0.81649658 0.81649658 0.81649658]\n",
            "max [3 6 9]\n",
            "min [1 4 7]\n"
          ],
          "name": "stdout"
        }
      ]
    },
    {
      "cell_type": "markdown",
      "metadata": {
        "id": "JZ-3j48kq0HB"
      },
      "source": [
        "7 일곱번째 실습 - 데이터 조회를 위한 인덱싱"
      ]
    },
    {
      "cell_type": "code",
      "metadata": {
        "colab": {
          "base_uri": "https://localhost:8080/"
        },
        "id": "HP-TSHnmrBPb",
        "outputId": "7c2b598d-3af3-4af3-9aca-9fedf56f57de"
      },
      "source": [
        "import numpy as np\n",
        "\n",
        "# sample 샘플 데이터 생성\n",
        "sample = np.arange(5,15)\n",
        "print(sample)\n",
        "print(\"sample[3]:\",sample[3])\n",
        "sample[3]=0\n",
        "print(\"sample[3]:\",sample[3])\n",
        "\n",
        "print()\n",
        "\n",
        "# 2차원 샘플데이터 생성 \n",
        "data = np.arange(16).reshape((4,4))\n",
        "print(data)\n",
        "print(\"data[2,3]:\",data[2,3])\n",
        "data[2,3]=0\n",
        "print(\"data[2,3]:\",data[2,3])\n",
        "\n",
        "print()\n",
        "\n",
        "# 3차원 샘플데이터 생성\n",
        "arr = np.arange(16).reshape(4,2,2) #층:4 개 열:2 ,행:2\n",
        "print(arr)\n",
        "print(\"arr[1,1,1]:\",arr[1,1,1]) # 1층, 행,열 -1 인 값 : 7\n",
        "print(\"arr[2,1,0]:\",arr[2,1,0]) # 8\n",
        "print(\"arr[3,1,1]:\",arr[3,1,1])   # "
      ],
      "execution_count": null,
      "outputs": [
        {
          "output_type": "stream",
          "text": [
            "[ 5  6  7  8  9 10 11 12 13 14]\n",
            "sample[3]: 8\n",
            "sample[3]: 0\n",
            "\n",
            "[[ 0  1  2  3]\n",
            " [ 4  5  6  7]\n",
            " [ 8  9 10 11]\n",
            " [12 13 14 15]]\n",
            "data[2,3]: 11\n",
            "data[2,3]: 0\n",
            "\n",
            "[[[ 0  1]\n",
            "  [ 2  3]]\n",
            "\n",
            " [[ 4  5]\n",
            "  [ 6  7]]\n",
            "\n",
            " [[ 8  9]\n",
            "  [10 11]]\n",
            "\n",
            " [[12 13]\n",
            "  [14 15]]]\n",
            "arr[1,1,1]: 7\n",
            "arr[2,1,0]: 10\n",
            "arr[3,1,1]: 15\n"
          ],
          "name": "stdout"
        }
      ]
    },
    {
      "cell_type": "markdown",
      "metadata": {
        "id": "tR8NmpDbGbTe"
      },
      "source": [
        "8 여덟번째 실습-데이터 조회를 위한 슬라이싱\n"
      ]
    },
    {
      "cell_type": "code",
      "metadata": {
        "colab": {
          "base_uri": "https://localhost:8080/"
        },
        "id": "tnqq2YS8Gk09",
        "outputId": "5bbc2534-00f0-4d56-ec70-59d6275a6be6"
      },
      "source": [
        "import numpy as np\n",
        "\n",
        "# 1차원 샘플 데이터 생성 \n",
        "data = np.arange(1,15)\n",
        "print(data)\n",
        "\n",
        "# 슬라이싱 실습 - python 과 동일하게 이루어짐 - 1차원에서만 \n",
        "print(\"1차원 슬라이싱\")\n",
        "print(data[2:5]) #2~4 자리의 수 ..\n",
        "\n",
        "print(data[:5])  #1~4 자리의 수 \n",
        "print(data[7:]) # 7~전체\n",
        "print(data[2:-1]) # 2부터 -1(마지막자리) 의 수까지  \n",
        "print(data[:]) # 전체 data 출력\n",
        "\n",
        "print()\n",
        "\n",
        "# 2차원 데이터 출력 - 행,열 고려해서 슬라이싱\n",
        "# 3차원 데이터 출력 - 행,열, 축 고려해서 슬라이싱! \n",
        "data = np.arange(1,17).reshape(4,4)\n",
        "print(data)\n",
        "print(\"2차원 슬라이싱\") #행& 축의 정보 모두 써워야 한다\n",
        "print(data[1:3, 1:3]) #행1~2 부터, 열 1~2 까지 공통된 부분 출력 \n",
        "print()\n",
        "print(data[:3, 0:1]) # 행 처음~2, 열 0 \n",
        "print()\n",
        "print(data[3:,:]) # 행 3~전체 , 열 전체\n",
        "print(data[:,2])  # 행 전체, 열 2번째\n",
        "print(data[:, :])  # 행,열 전체 \n",
        "\n",
        "print()\n",
        "\n",
        "# 데이터 슬라이싱 - 역방향 방법 - Negative index \n",
        "print(data[:,1:-1]) # 행-전체, 열- 1부터 (-1) 의 값 전까지  \n",
        "print(data[:,-1]) # 행전체, 열 - -1 만  \n"
      ],
      "execution_count": null,
      "outputs": [
        {
          "output_type": "stream",
          "text": [
            "[ 1  2  3  4  5  6  7  8  9 10 11 12 13 14]\n",
            "1차원 슬라이싱\n",
            "[3 4 5]\n",
            "[1 2 3 4 5]\n",
            "[ 8  9 10 11 12 13 14]\n",
            "[ 3  4  5  6  7  8  9 10 11 12 13]\n",
            "[ 1  2  3  4  5  6  7  8  9 10 11 12 13 14]\n",
            "\n",
            "[[ 1  2  3  4]\n",
            " [ 5  6  7  8]\n",
            " [ 9 10 11 12]\n",
            " [13 14 15 16]]\n",
            "2차원 슬라이싱\n",
            "[[ 6  7]\n",
            " [10 11]]\n",
            "\n",
            "[[1]\n",
            " [5]\n",
            " [9]]\n",
            "\n",
            "[[13 14 15 16]]\n",
            "[ 3  7 11 15]\n",
            "[[ 1  2  3  4]\n",
            " [ 5  6  7  8]\n",
            " [ 9 10 11 12]\n",
            " [13 14 15 16]]\n",
            "\n",
            "[[ 2  3]\n",
            " [ 6  7]\n",
            " [10 11]\n",
            " [14 15]]\n",
            "[ 4  8 12 16]\n"
          ],
          "name": "stdout"
        }
      ]
    },
    {
      "cell_type": "markdown",
      "metadata": {
        "id": "w3UJrNMtYmJM"
      },
      "source": [
        "9. 아홉번째 실습 - 데이터 정렬"
      ]
    },
    {
      "cell_type": "code",
      "metadata": {
        "colab": {
          "base_uri": "https://localhost:8080/"
        },
        "id": "onLJfWeMYvOu",
        "outputId": "9abd83c3-6795-4931-89f8-937a2a6a4658"
      },
      "source": [
        "import numpy as np\n",
        "\n",
        "# 샘플 데이터 생성\n",
        "sample = np.array([2,5,8,1])\n",
        "print(\"or\",sample)\n",
        "\n",
        "# 정렬 - 원본데이터를 정렬해도 사본으로 저장되어 출력 됨 즉, 원본 변경 안됨 - 오름차순 정리만 가능\n",
        "result = np.sort(sample)\n",
        "print(\"re\",result) \n",
        "print(\"or\",sample)\n",
        "three = sample.sort()\n",
        "print(\"re1\",sample)\n",
        "print(\"re\",three)\n",
        "\n",
        "print()\n",
        "\n",
        "# 내림차순과 역출력의 차의\n",
        "#1. 역출력 - 정렬함수 안에서 negative func 사용\n",
        "print(\"ascending\",sample[::-1])\n",
        "# 내림차순 - 1. sort 2. negative func 사용\n",
        "arr = np.sort(sample)\n",
        "result = arr[::-1]\n",
        "print(\"as2\",result)\n",
        "\n",
        "print()\n",
        "\n",
        "# 2차원, 3차원 정렬 방법 - axis 이용\n",
        "# 샘플데이터 생성\n",
        "sample = np.array([[9,11],[5,1]]) # 2차원\n",
        "print(sample)\n",
        "\n",
        "# 2차원 배열 정렬 - 중심 축을 정해야 한다 ex> axis=0 또는  axis=1\n",
        "result = np.sort(sample,axis=0)\n",
        "print(result) #axis=0 은 열끼리 정렬해서 나옴\n",
        "\n",
        "# axis=1 사용\n",
        "result = np.sort(sample, axis=1)\n",
        "print(result) # 이떄는 행끼리 정렬되어 나옴\n",
        "\n",
        "# argsort() 함수 이용해서 인덱스 값만 반환\n",
        "\n",
        "name = np.array(['kim','lee','park','cho'])\n",
        "score = np.array([78,32,100,96])\n",
        "\n",
        "sort_list = np.argsort(score) #score 를 정렬 32,76,96,100 -> 1,0,3,2로 index 정렬\n",
        "print(sort_list)\n",
        "\n",
        "# 정렬된 것을가지고 이름과 매치해서 이름을 순위대로 출력하는 방법\n",
        "print(name[sort_list]) #1,0,3,2 -> 0,1,2,3->lee,kim,cho,park\n"
      ],
      "execution_count": null,
      "outputs": [
        {
          "output_type": "stream",
          "name": "stdout",
          "text": [
            "or [2 5 8 1]\n",
            "re [1 2 5 8]\n",
            "or [2 5 8 1]\n",
            "re1 [1 2 5 8]\n",
            "re None\n",
            "\n",
            "ascending [8 5 2 1]\n",
            "as2 [8 5 2 1]\n",
            "\n",
            "[[ 9 11]\n",
            " [ 5  1]]\n",
            "[[ 5  1]\n",
            " [ 9 11]]\n",
            "[[ 9 11]\n",
            " [ 1  5]]\n",
            "[1 0 3 2]\n",
            "['lee' 'kim' 'cho' 'park']\n"
          ]
        }
      ]
    }
  ]
}