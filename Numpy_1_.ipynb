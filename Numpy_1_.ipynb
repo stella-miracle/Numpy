{
  "nbformat": 4,
  "nbformat_minor": 0,
  "metadata": {
    "colab": {
      "name": "Numpy_1 .ipynb",
      "provenance": [],
      "collapsed_sections": [],
      "authorship_tag": "ABX9TyM3j/VgkRvTO5XLzvL83Q0W"
    },
    "kernelspec": {
      "name": "python3",
      "display_name": "Python 3"
    },
    "language_info": {
      "name": "python"
    }
  },
  "cells": [
    {
      "cell_type": "markdown",
      "metadata": {
        "id": "76aBZWtB5PZN"
      },
      "source": [
        "1. Numpy\n",
        "첫번째  실습 - numpy 의 이해\n",
        "\n"
      ]
    },
    {
      "cell_type": "code",
      "metadata": {
        "colab": {
          "base_uri": "https://localhost:8080/"
        },
        "id": "leXXzqrd5iSb",
        "outputId": "869174d1-a133-4a70-a4e4-9dac60685f7c"
      },
      "source": [
        "import numpy as np # numpy 의 일반적인 별칭으로 np 를 많이 씀\n",
        "print(np.__version__)\n",
        "\n",
        "# ndarray 의 주요 속성\n",
        "# shape, size, dtype , ndim 으로 확인 가능 \n",
        "\n",
        "\n",
        "# 1차원 배열 \n",
        "data = [10,20,30]\n",
        "arr= np.array(data)\n",
        "print(\"1차원 행렬 :\",data)\n",
        "print(\"type: \",type(arr))\n",
        "print(\"1. shape={} ,size={}, dtype={}, ndim={}\".format(arr.shape,arr.size,arr.dtype,arr.ndim))\n",
        "# ndim =1 에 따라 axis=0 축밖에 없으며 그 축은 data 값이 3 이다.\n",
        "\n",
        "print()\n",
        "\n",
        "# 2차원 배열\n",
        "data = [[1,2,3], [4,5,6]]\n",
        "print(data) \n",
        "arr= np.array(data, dtype=float)\n",
        "print(arr)\n",
        "print(\"2. shape:{},size={},dtype={},ndim={}\".format(arr.shape, arr.size, arr.dtype,arr.ndim))\n",
        "# ndim=2 에 따라 axis=0, axis=1 두개가 있는데 차례대로 2,3 의 date 값을 가지고 있다\n",
        "\n",
        "print()\n",
        "\n",
        "# 3차원 배열\n",
        "data = [[[1, 2, 3],\n",
        "         [4, 5, 6]],\n",
        "        [[3, 2, 1],\n",
        "         [4, 5, 6]]]\n",
        "arr = np.array(data,dtype=float)\n",
        "print(arr)\n",
        "print(\"3. shape:{},size={},dtype={},ndim={}\".format(arr.shape, arr.size, arr.dtype,arr.ndim))\n",
        "# ndim=3 에 따라 axis=0,1,2 총 3 개가 있는데 차례대로 2,2,3 의 data 값을 가지고 있다 \n",
        "# 즉 shape 의 값의 결정하는 순서는 axis 가 된다. \n"
      ],
      "execution_count": null,
      "outputs": [
        {
          "output_type": "stream",
          "text": [
            "1.19.5\n",
            "1차원 행렬 : [10, 20, 30]\n",
            "type:  <class 'numpy.ndarray'>\n",
            "1. shape=(3,) ,size=3, dtype=int64, ndim=1\n",
            "\n",
            "[[1, 2, 3], [4, 5, 6]]\n",
            "[[1. 2. 3.]\n",
            " [4. 5. 6.]]\n",
            "2. shape:(2, 3),size=6,dtype=float64,ndim=2\n",
            "\n",
            "[[[1. 2. 3.]\n",
            "  [4. 5. 6.]]\n",
            "\n",
            " [[3. 2. 1.]\n",
            "  [4. 5. 6.]]]\n",
            "3. shape:(2, 2, 3),size=12,dtype=float64,ndim=3\n"
          ],
          "name": "stdout"
        }
      ]
    },
    {
      "cell_type": "markdown",
      "metadata": {
        "id": "NbF3dm1HCOpx"
      },
      "source": [
        "2. 두번째 실습 - numpy 의 생성\n"
      ]
    },
    {
      "cell_type": "code",
      "metadata": {
        "colab": {
          "base_uri": "https://localhost:8080/"
        },
        "id": "Ix53yjXwCIw9",
        "outputId": "b459eafa-598e-49f9-a732-d899371759a7"
      },
      "source": [
        "import numpy as np\n",
        "\n",
        "# 속성을 알기 위한 함수 생성\n",
        "def printinfo(arr):\n",
        "  print(arr)\n",
        "  print(\"shape:{},size:{},dtype:{},ndim:{}\".format(arr.shape, arr.size,arr.dtype,arr.ndim))\n",
        "\n",
        "# np.arange() 함수 사용법 - dtype : int \n",
        "arr = np.arange(10)\n",
        "printinfo(arr) \n",
        "\n",
        "print()\n",
        "\n",
        "# np.zeros() 함수 사용법 - dtype : float\n",
        "arr = np.zeros(5)  # zeros(shape, 생략하면 무조건 (0))\n",
        "printinfo(arr)\n",
        "\n",
        "print()\n",
        "\n",
        "# 두번째 zeros\n",
        "arr = np.zeros((3,4),dtype=int)  # 2차원 배열, 0 초기화\n",
        "printinfo(arr)\n",
        "\n",
        "print()\n",
        "\n",
        "# np.ones() 함수 사용법 - 1로 초기화 , dtype = float\n",
        "arr= np.ones(5)\n",
        "printinfo(arr)\n",
        "arr = np.ones((3,4))\n",
        "printinfo(arr)\n",
        "\n",
        "print()\n",
        "\n",
        "# np.full() 함수 사용법 - shape대입, 내가 대입한 값으로 초기화\n",
        "arr= np.full((3,4),128)\n",
        "printinfo(arr)\n",
        "\n",
        "print()\n",
        "\n",
        "#np.empty()\n",
        "arr = np.empty(3)\n",
        "print(\"xx\", arr)\n",
        "\n",
        "# no.ones_like() 함수 사용법 - shape 을 그 전 배열을 따와서 생성, data=1 초기화\n",
        "data = [[1,2,3], [4,5,6]]\n",
        "sample =  np.array(data) # 2차원 행렬 데이터 2*3\n",
        "arr= np.ones_like(sample) # 주의할 점은 data 를 넣는것이 아니라 array 함수로 만든 후에 대입하는것\n",
        "printinfo(arr)\n"
      ],
      "execution_count": null,
      "outputs": [
        {
          "output_type": "stream",
          "name": "stdout",
          "text": [
            "[0 1 2 3 4 5 6 7 8 9]\n",
            "shape:(10,),size:10,dtype:int64,ndim:1\n",
            "\n",
            "[0. 0. 0. 0. 0.]\n",
            "shape:(5,),size:5,dtype:float64,ndim:1\n",
            "\n",
            "[[0 0 0 0]\n",
            " [0 0 0 0]\n",
            " [0 0 0 0]]\n",
            "shape:(3, 4),size:12,dtype:int64,ndim:2\n",
            "\n",
            "[1. 1. 1. 1. 1.]\n",
            "shape:(5,),size:5,dtype:float64,ndim:1\n",
            "[[1. 1. 1. 1.]\n",
            " [1. 1. 1. 1.]\n",
            " [1. 1. 1. 1.]]\n",
            "shape:(3, 4),size:12,dtype:float64,ndim:2\n",
            "\n",
            "[[128 128 128 128]\n",
            " [128 128 128 128]\n",
            " [128 128 128 128]]\n",
            "shape:(3, 4),size:12,dtype:int64,ndim:2\n",
            "\n",
            "xx [0.75 0.75 0.  ]\n",
            "[[1 1 1]\n",
            " [1 1 1]]\n",
            "shape:(2, 3),size:6,dtype:int64,ndim:2\n"
          ]
        }
      ]
    },
    {
      "cell_type": "markdown",
      "metadata": {
        "id": "Ph0vtpHAnsYg"
      },
      "source": [
        "3. 세번째 실습 - numpy의 데이터 타입\n"
      ]
    },
    {
      "cell_type": "code",
      "metadata": {
        "colab": {
          "base_uri": "https://localhost:8080/"
        },
        "id": "4tFcxl24PhwT",
        "outputId": "74ba4491-a32a-4eb5-86d7-7c05add5effc"
      },
      "source": [
        "import numpy as np\n",
        "# 데이터 타입 변경 첫번째 - dtype 을 이용해 변환\n",
        "data= [10,20,30]\n",
        "com = np.array(data,complex)\n",
        "st = np.array(data,str)\n",
        "ori = np.array(data)\n",
        "print(\"ori dtype {}, com dtype{} , st type{}\".format(ori.dtype , com.dtype, st.dtype))\n",
        "print(ori,com,st)\n",
        "\n",
        "print()\n",
        "\n",
        "# 데이터 타입 변경 두번째 - astype 를 이용해 변환\n",
        "data = np.arange(1,2,0.2)\n",
        "print(data)\n",
        "print(\"data dtype {}\".format(data.dtype))\n",
        "print()\n",
        "sample = data.astype(int)\n",
        "print(sample)\n",
        "print(\"sample dtype: {}\".format(sample.dtype))\n",
        "\n",
        "# 원본 - data , float \n",
        "# 수정본 - sample, int \n",
        "# numpy 자체가 데이터 분석에 많이 쓰이다 보니 원본데이터의 손실을 고려하여\n",
        "# 형변환시에 원본 데이터는 변화가 없고 형변환을 한 원본의 새로운 데이터를 만들어 \n",
        "# 출력한다. - 즉, 안전하게 원본을 보호하기 위해서 ! "
      ],
      "execution_count": null,
      "outputs": [
        {
          "output_type": "stream",
          "text": [
            "ori dtype int64, com dtypecomplex128 , st type<U2\n",
            "[10 20 30] [10.+0.j 20.+0.j 30.+0.j] ['10' '20' '30']\n",
            "\n",
            "[1.  1.2 1.4 1.6 1.8]\n",
            "data dtype float64\n",
            "\n",
            "[1 1 1 1 1]\n",
            "sample dtype: int64\n"
          ],
          "name": "stdout"
        }
      ]
    },
    {
      "cell_type": "markdown",
      "metadata": {
        "id": "teHWJXsfoJiE"
      },
      "source": [
        "\n",
        "\n",
        "4. 네번째 실습 - reshape\n",
        "\n",
        "\n"
      ]
    },
    {
      "cell_type": "code",
      "metadata": {
        "colab": {
          "base_uri": "https://localhost:8080/"
        },
        "id": "ausW1wkhoMe7",
        "outputId": "b63485a3-8c91-4c95-ffcc-be940e508087"
      },
      "source": [
        "import numpy as np\n",
        "\n",
        "def printinfo(arr):\n",
        "  print(arr)\n",
        "  print(\"shape:{},size:{},dtype:{},ndim:{}\".format(arr.shape,arr.size,arr.dtype,arr.ndim))\n",
        "\n",
        "# 샘플 데이터\n",
        "original = np.arange(15)\n",
        "printinfo(original)\n",
        "print()\n",
        "\n",
        "# reshape - 첫번째 방법 np.shape 이용 \n",
        "#a = np.reshape(original,(3,6))\n",
        "#Valueerror : cannot reshape array of size 15 into shape(3,6) 라는 에러가 뜨는데 매우 중요!!\n",
        "# ori= 15 개의 data 가 있지만 a 는 (3,6)=18 개의 date 이므로 원본손실의 우려가 있기 때문에\n",
        "# error 가 발생하게 된다!\n",
        "# 즉, reshape 는 바꾸기 전,후 의 data size 가 같아야 가능하다! - 중요!\n",
        "a = np.reshape(original,(3,5))\n",
        "printinfo(a)\n",
        "print()\n",
        "\n",
        "# 두번째 방법 - -1,n 이용\n",
        "arr = original.reshape(-1,15) # arr 은 원래 data = 15 개 \n",
        "                             # -1은 가변적이고 15 개를 만들기 위해 (-1,n) 에 n 값에 수를 대입\n",
        "                            # ex> 3,5 = 15 이기에 n 에 3과 5 를 각각 대입해보면\n",
        "                            # 원래 1차원이였던 original 를 2차원인 arr 로변형된것을 알수 있다. \n",
        "printinfo(arr)\n",
        "print()\n",
        "arr1 = original.reshape(-1,3)\n",
        "printinfo(arr1)\n",
        "print()\n",
        "arr2 = original.reshape(-1,5)\n",
        "printinfo(arr2)\n",
        "print()\n",
        "arr3 = original.reshape(-1,1)\n",
        "printinfo(arr3)\n",
        "print()\n",
        "\n"
      ],
      "execution_count": null,
      "outputs": [
        {
          "output_type": "stream",
          "text": [
            "[ 0  1  2  3  4  5  6  7  8  9 10 11 12 13 14]\n",
            "shape:(15,),size:15,dtype:int64,ndim:1\n",
            "\n",
            "[[ 0  1  2  3  4]\n",
            " [ 5  6  7  8  9]\n",
            " [10 11 12 13 14]]\n",
            "shape:(3, 5),size:15,dtype:int64,ndim:2\n",
            "\n",
            "[[ 0  1  2  3  4  5  6  7  8  9 10 11 12 13 14]]\n",
            "shape:(1, 15),size:15,dtype:int64,ndim:2\n",
            "\n",
            "[[ 0  1  2]\n",
            " [ 3  4  5]\n",
            " [ 6  7  8]\n",
            " [ 9 10 11]\n",
            " [12 13 14]]\n",
            "shape:(5, 3),size:15,dtype:int64,ndim:2\n",
            "\n",
            "[[ 0  1  2  3  4]\n",
            " [ 5  6  7  8  9]\n",
            " [10 11 12 13 14]]\n",
            "shape:(3, 5),size:15,dtype:int64,ndim:2\n",
            "\n",
            "[[ 0]\n",
            " [ 1]\n",
            " [ 2]\n",
            " [ 3]\n",
            " [ 4]\n",
            " [ 5]\n",
            " [ 6]\n",
            " [ 7]\n",
            " [ 8]\n",
            " [ 9]\n",
            " [10]\n",
            " [11]\n",
            " [12]\n",
            " [13]\n",
            " [14]]\n",
            "shape:(15, 1),size:15,dtype:int64,ndim:2\n",
            "\n"
          ],
          "name": "stdout"
        }
      ]
    }
  ]
}