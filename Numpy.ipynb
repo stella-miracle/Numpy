{
  "nbformat": 4,
  "nbformat_minor": 0,
  "metadata": {
    "colab": {
      "name": "Numpy.ipynb의 사본",
      "provenance": [],
      "collapsed_sections": [],
      "authorship_tag": "ABX9TyOxQP7ICKqIEeG/0Y10ekAB"
    },
    "kernelspec": {
      "name": "python3",
      "display_name": "Python 3"
    },
    "language_info": {
      "name": "python"
    }
  },
  "cells": [
    {
      "cell_type": "markdown",
      "metadata": {
        "id": "76aBZWtB5PZN"
      },
      "source": [
        "1. Numpy (code_presso)\n",
        "첫번째  실습 - numpy 의 이해\n",
        "\n"
      ]
    },
    {
      "cell_type": "code",
      "metadata": {
        "colab": {
          "base_uri": "https://localhost:8080/"
        },
        "id": "leXXzqrd5iSb",
        "outputId": "869174d1-a133-4a70-a4e4-9dac60685f7c"
      },
      "source": [
        "import numpy as np # numpy 의 일반적인 별칭으로 np 를 많이 씀\n",
        "print(np.__version__)\n",
        "\n",
        "# ndarray 의 주요 속성\n",
        "# shape, size, dtype , ndim 으로 확인 가능 \n",
        "\n",
        "\n",
        "# 1차원 배열 \n",
        "data = [10,20,30]\n",
        "arr= np.array(data)\n",
        "print(\"1차원 행렬 :\",data)\n",
        "print(\"type: \",type(arr))\n",
        "print(\"1. shape={} ,size={}, dtype={}, ndim={}\".format(arr.shape,arr.size,arr.dtype,arr.ndim))\n",
        "# ndim =1 에 따라 axis=0 축밖에 없으며 그 축은 data 값이 3 이다.\n",
        "\n",
        "print()\n",
        "\n",
        "# 2차원 배열\n",
        "data = [[1,2,3], [4,5,6]]\n",
        "print(data) \n",
        "arr= np.array(data, dtype=float)\n",
        "print(arr)\n",
        "print(\"2. shape:{},size={},dtype={},ndim={}\".format(arr.shape, arr.size, arr.dtype,arr.ndim))\n",
        "# ndim=2 에 따라 axis=0, axis=1 두개가 있는데 차례대로 2,3 의 date 값을 가지고 있다\n",
        "\n",
        "print()\n",
        "\n",
        "# 3차원 배열\n",
        "data = [[[1, 2, 3],\n",
        "         [4, 5, 6]],\n",
        "        [[3, 2, 1],\n",
        "         [4, 5, 6]]]\n",
        "arr = np.array(data,dtype=float)\n",
        "print(arr)\n",
        "print(\"3. shape:{},size={},dtype={},ndim={}\".format(arr.shape, arr.size, arr.dtype,arr.ndim))\n",
        "# ndim=3 에 따라 axis=0,1,2 총 3 개가 있는데 차례대로 2,2,3 의 data 값을 가지고 있다 \n",
        "# 즉 shape 의 값의 결정하는 순서는 axis 가 된다. \n"
      ],
      "execution_count": null,
      "outputs": [
        {
          "output_type": "stream",
          "text": [
            "1.19.5\n",
            "1차원 행렬 : [10, 20, 30]\n",
            "type:  <class 'numpy.ndarray'>\n",
            "1. shape=(3,) ,size=3, dtype=int64, ndim=1\n",
            "\n",
            "[[1, 2, 3], [4, 5, 6]]\n",
            "[[1. 2. 3.]\n",
            " [4. 5. 6.]]\n",
            "2. shape:(2, 3),size=6,dtype=float64,ndim=2\n",
            "\n",
            "[[[1. 2. 3.]\n",
            "  [4. 5. 6.]]\n",
            "\n",
            " [[3. 2. 1.]\n",
            "  [4. 5. 6.]]]\n",
            "3. shape:(2, 2, 3),size=12,dtype=float64,ndim=3\n"
          ],
          "name": "stdout"
        }
      ]
    },
    {
      "cell_type": "markdown",
      "metadata": {
        "id": "NbF3dm1HCOpx"
      },
      "source": [
        "2. 두번째 실습 - numpy 의 생성\n"
      ]
    },
    {
      "cell_type": "code",
      "metadata": {
        "colab": {
          "base_uri": "https://localhost:8080/"
        },
        "id": "Ix53yjXwCIw9",
        "outputId": "b459eafa-598e-49f9-a732-d899371759a7"
      },
      "source": [
        "import numpy as np\n",
        "\n",
        "# 속성을 알기 위한 함수 생성\n",
        "def printinfo(arr):\n",
        "  print(arr)\n",
        "  print(\"shape:{},size:{},dtype:{},ndim:{}\".format(arr.shape, arr.size,arr.dtype,arr.ndim))\n",
        "\n",
        "# np.arange() 함수 사용법 - dtype : int \n",
        "arr = np.arange(10)\n",
        "printinfo(arr) \n",
        "\n",
        "print()\n",
        "\n",
        "# np.zeros() 함수 사용법 - dtype : float\n",
        "arr = np.zeros(5)  # zeros(shape, 생략하면 무조건 (0))\n",
        "printinfo(arr)\n",
        "\n",
        "print()\n",
        "\n",
        "# 두번째 zeros\n",
        "arr = np.zeros((3,4),dtype=int)  # 2차원 배열, 0 초기화\n",
        "printinfo(arr)\n",
        "\n",
        "print()\n",
        "\n",
        "# np.ones() 함수 사용법 - 1로 초기화 , dtype = float\n",
        "arr= np.ones(5)\n",
        "printinfo(arr)\n",
        "arr = np.ones((3,4))\n",
        "printinfo(arr)\n",
        "\n",
        "print()\n",
        "\n",
        "# np.full() 함수 사용법 - shape대입, 내가 대입한 값으로 초기화\n",
        "arr= np.full((3,4),128)\n",
        "printinfo(arr)\n",
        "\n",
        "print()\n",
        "\n",
        "#np.empty()\n",
        "arr = np.empty(3)\n",
        "print(\"xx\", arr)\n",
        "\n",
        "# no.ones_like() 함수 사용법 - shape 을 그 전 배열을 따와서 생성, data=1 초기화\n",
        "data = [[1,2,3], [4,5,6]]\n",
        "sample =  np.array(data) # 2차원 행렬 데이터 2*3\n",
        "arr= np.ones_like(sample) # 주의할 점은 data 를 넣는것이 아니라 array 함수로 만든 후에 대입하는것\n",
        "printinfo(arr)\n"
      ],
      "execution_count": null,
      "outputs": [
        {
          "output_type": "stream",
          "name": "stdout",
          "text": [
            "[0 1 2 3 4 5 6 7 8 9]\n",
            "shape:(10,),size:10,dtype:int64,ndim:1\n",
            "\n",
            "[0. 0. 0. 0. 0.]\n",
            "shape:(5,),size:5,dtype:float64,ndim:1\n",
            "\n",
            "[[0 0 0 0]\n",
            " [0 0 0 0]\n",
            " [0 0 0 0]]\n",
            "shape:(3, 4),size:12,dtype:int64,ndim:2\n",
            "\n",
            "[1. 1. 1. 1. 1.]\n",
            "shape:(5,),size:5,dtype:float64,ndim:1\n",
            "[[1. 1. 1. 1.]\n",
            " [1. 1. 1. 1.]\n",
            " [1. 1. 1. 1.]]\n",
            "shape:(3, 4),size:12,dtype:float64,ndim:2\n",
            "\n",
            "[[128 128 128 128]\n",
            " [128 128 128 128]\n",
            " [128 128 128 128]]\n",
            "shape:(3, 4),size:12,dtype:int64,ndim:2\n",
            "\n",
            "xx [0.75 0.75 0.  ]\n",
            "[[1 1 1]\n",
            " [1 1 1]]\n",
            "shape:(2, 3),size:6,dtype:int64,ndim:2\n"
          ]
        }
      ]
    },
    {
      "cell_type": "markdown",
      "metadata": {
        "id": "Ph0vtpHAnsYg"
      },
      "source": [
        "3. 세번째 실습 - numpy의 데이터 타입\n"
      ]
    },
    {
      "cell_type": "code",
      "metadata": {
        "colab": {
          "base_uri": "https://localhost:8080/"
        },
        "id": "4tFcxl24PhwT",
        "outputId": "74ba4491-a32a-4eb5-86d7-7c05add5effc"
      },
      "source": [
        "import numpy as np\n",
        "# 데이터 타입 변경 첫번째 - dtype 을 이용해 변환\n",
        "data= [10,20,30]\n",
        "com = np.array(data,complex)\n",
        "st = np.array(data,str)\n",
        "ori = np.array(data)\n",
        "print(\"ori dtype {}, com dtype{} , st type{}\".format(ori.dtype , com.dtype, st.dtype))\n",
        "print(ori,com,st)\n",
        "\n",
        "print()\n",
        "\n",
        "# 데이터 타입 변경 두번째 - astype 를 이용해 변환\n",
        "data = np.arange(1,2,0.2)\n",
        "print(data)\n",
        "print(\"data dtype {}\".format(data.dtype))\n",
        "print()\n",
        "sample = data.astype(int)\n",
        "print(sample)\n",
        "print(\"sample dtype: {}\".format(sample.dtype))\n",
        "\n",
        "# 원본 - data , float \n",
        "# 수정본 - sample, int \n",
        "# numpy 자체가 데이터 분석에 많이 쓰이다 보니 원본데이터의 손실을 고려하여\n",
        "# 형변환시에 원본 데이터는 변화가 없고 형변환을 한 원본의 새로운 데이터를 만들어 \n",
        "# 출력한다. - 즉, 안전하게 원본을 보호하기 위해서 ! "
      ],
      "execution_count": null,
      "outputs": [
        {
          "output_type": "stream",
          "text": [
            "ori dtype int64, com dtypecomplex128 , st type<U2\n",
            "[10 20 30] [10.+0.j 20.+0.j 30.+0.j] ['10' '20' '30']\n",
            "\n",
            "[1.  1.2 1.4 1.6 1.8]\n",
            "data dtype float64\n",
            "\n",
            "[1 1 1 1 1]\n",
            "sample dtype: int64\n"
          ],
          "name": "stdout"
        }
      ]
    },
    {
      "cell_type": "markdown",
      "metadata": {
        "id": "teHWJXsfoJiE"
      },
      "source": [
        "\n",
        "\n",
        "4. 네번째 실습 - reshape\n",
        "\n",
        "\n"
      ]
    },
    {
      "cell_type": "code",
      "metadata": {
        "colab": {
          "base_uri": "https://localhost:8080/"
        },
        "id": "ausW1wkhoMe7",
        "outputId": "b63485a3-8c91-4c95-ffcc-be940e508087"
      },
      "source": [
        "import numpy as np\n",
        "\n",
        "def printinfo(arr):\n",
        "  print(arr)\n",
        "  print(\"shape:{},size:{},dtype:{},ndim:{}\".format(arr.shape,arr.size,arr.dtype,arr.ndim))\n",
        "\n",
        "# 샘플 데이터\n",
        "original = np.arange(15)\n",
        "printinfo(original)\n",
        "print()\n",
        "\n",
        "# reshape - 첫번째 방법 np.shape 이용 \n",
        "#a = np.reshape(original,(3,6))\n",
        "#Valueerror : cannot reshape array of size 15 into shape(3,6) 라는 에러가 뜨는데 매우 중요!!\n",
        "# ori= 15 개의 data 가 있지만 a 는 (3,6)=18 개의 date 이므로 원본손실의 우려가 있기 때문에\n",
        "# error 가 발생하게 된다!\n",
        "# 즉, reshape 는 바꾸기 전,후 의 data size 가 같아야 가능하다! - 중요!\n",
        "a = np.reshape(original,(3,5))\n",
        "printinfo(a)\n",
        "print()\n",
        "\n",
        "# 두번째 방법 - -1,n 이용\n",
        "arr = original.reshape(-1,15) # arr 은 원래 data = 15 개 \n",
        "                             # -1은 가변적이고 15 개를 만들기 위해 (-1,n) 에 n 값에 수를 대입\n",
        "                            # ex> 3,5 = 15 이기에 n 에 3과 5 를 각각 대입해보면\n",
        "                            # 원래 1차원이였던 original 를 2차원인 arr 로변형된것을 알수 있다. \n",
        "printinfo(arr)\n",
        "print()\n",
        "arr1 = original.reshape(-1,3)\n",
        "printinfo(arr1)\n",
        "print()\n",
        "arr2 = original.reshape(-1,5)\n",
        "printinfo(arr2)\n",
        "print()\n",
        "arr3 = original.reshape(-1,1)\n",
        "printinfo(arr3)\n",
        "print()\n",
        "\n"
      ],
      "execution_count": null,
      "outputs": [
        {
          "output_type": "stream",
          "text": [
            "[ 0  1  2  3  4  5  6  7  8  9 10 11 12 13 14]\n",
            "shape:(15,),size:15,dtype:int64,ndim:1\n",
            "\n",
            "[[ 0  1  2  3  4]\n",
            " [ 5  6  7  8  9]\n",
            " [10 11 12 13 14]]\n",
            "shape:(3, 5),size:15,dtype:int64,ndim:2\n",
            "\n",
            "[[ 0  1  2  3  4  5  6  7  8  9 10 11 12 13 14]]\n",
            "shape:(1, 15),size:15,dtype:int64,ndim:2\n",
            "\n",
            "[[ 0  1  2]\n",
            " [ 3  4  5]\n",
            " [ 6  7  8]\n",
            " [ 9 10 11]\n",
            " [12 13 14]]\n",
            "shape:(5, 3),size:15,dtype:int64,ndim:2\n",
            "\n",
            "[[ 0  1  2  3  4]\n",
            " [ 5  6  7  8  9]\n",
            " [10 11 12 13 14]]\n",
            "shape:(3, 5),size:15,dtype:int64,ndim:2\n",
            "\n",
            "[[ 0]\n",
            " [ 1]\n",
            " [ 2]\n",
            " [ 3]\n",
            " [ 4]\n",
            " [ 5]\n",
            " [ 6]\n",
            " [ 7]\n",
            " [ 8]\n",
            " [ 9]\n",
            " [10]\n",
            " [11]\n",
            " [12]\n",
            " [13]\n",
            " [14]]\n",
            "shape:(15, 1),size:15,dtype:int64,ndim:2\n",
            "\n"
          ],
          "name": "stdout"
        }
      ]
    },
    {
      "cell_type": "markdown",
      "metadata": {
        "id": "CjxYO9d21rFG"
      },
      "source": [
        "5. 다섯번째 실습 - 기본연산\n"
      ]
    },
    {
      "cell_type": "code",
      "metadata": {
        "colab": {
          "base_uri": "https://localhost:8080/"
        },
        "id": "WweUEbEmjcKE",
        "outputId": "fca89a7a-1610-4d8c-93b7-7d7664295ba3"
      },
      "source": [
        "import numpy as np\n",
        "\n",
        "# 샘플 데이터 생성\n",
        "a = np.arange(1,10).reshape(3,3) \n",
        "# 원래 1~9까지의 1차원 배열을 (3,3)의 2 차원으로 reshape 해서 출력 \n",
        "print(a)\n",
        "\n",
        "print()\n",
        "\n",
        "b = np.arange(9,0,-1).reshape(3,3)\n",
        "# 여기도 마찬가지로 reshape\n",
        "# 중요한 점은 둘다 원본, 사본 -> data : 9 로 동일\n",
        "print(b)\n",
        "\n",
        "print()\n",
        "\n",
        "# 연산\n",
        "c = a+b\n",
        "print(\"+ 사용:\",c)\n",
        "# 또는\n",
        "print(\"add 사용:\",np.add(a,b))\n",
        "\n",
        "print()\n",
        "\n",
        "print(\"/사용:\",a/b)\n",
        "print(\"divide 사용:\",np.divide(a,b))\n",
        "\n",
        "print()\n",
        "\n",
        "# 비교 연산 - 모든 배열의 요소별로 T/F 가 출력된다.\n",
        "print(a>b)\n",
        "print(a != b)\n",
        "\n",
        "print()\n",
        "\n",
        "import time\n",
        "\n",
        "# python 과 numpy 의 계산속도 비교 \n",
        "python = range(10000000)\n",
        "start = time.time()\n",
        "for i in python:\n",
        "  i +1 \n",
        "end = time.time() \n",
        "print(\"python 걸린시간:\",(end-start)*1000 )\n",
        "\n",
        "print()\n",
        "\n",
        "numpy = np.arange(10000000)\n",
        "_start = time.time()\n",
        "numpy +1\n",
        "_end = time.time()\n",
        "print(\"numpy 걸린시간:\", (_end-_start)*1000)\n",
        "\n",
        "# python > numpy : 즉 고차원의 많은 데이터의 계산도 효율적으로 가능하다! "
      ],
      "execution_count": null,
      "outputs": [
        {
          "output_type": "stream",
          "text": [
            "[[1 2 3]\n",
            " [4 5 6]\n",
            " [7 8 9]]\n",
            "\n",
            "[[9 8 7]\n",
            " [6 5 4]\n",
            " [3 2 1]]\n",
            "\n",
            "+ 사용: [[10 10 10]\n",
            " [10 10 10]\n",
            " [10 10 10]]\n",
            "add 사용: [[10 10 10]\n",
            " [10 10 10]\n",
            " [10 10 10]]\n",
            "\n",
            "/사용: [[0.11111111 0.25       0.42857143]\n",
            " [0.66666667 1.         1.5       ]\n",
            " [2.33333333 4.         9.        ]]\n",
            "divide 사용: [[0.11111111 0.25       0.42857143]\n",
            " [0.66666667 1.         1.5       ]\n",
            " [2.33333333 4.         9.        ]]\n",
            "\n",
            "[[False False False]\n",
            " [False False  True]\n",
            " [ True  True  True]]\n",
            "[[ True  True  True]\n",
            " [ True False  True]\n",
            " [ True  True  True]]\n",
            "\n",
            "python 걸린시간: 855.8552265167236\n",
            "\n",
            "numpy 걸린시간: 33.66374969482422\n"
          ],
          "name": "stdout"
        }
      ]
    },
    {
      "cell_type": "markdown",
      "metadata": {
        "id": "Xc-Oitkt4T6O"
      },
      "source": [
        "6. 여섯번째 실습 - 집계 함수"
      ]
    },
    {
      "cell_type": "code",
      "metadata": {
        "colab": {
          "base_uri": "https://localhost:8080/"
        },
        "id": "PjWxqKXn4ist",
        "outputId": "36514fa1-1b91-4b1f-9600-205d21069a63"
      },
      "source": [
        "import numpy as np\n",
        "\n",
        "\n",
        "#샘플 데이터 생성 \n",
        "sample = np.arange(1,10).reshape(3,3)\n",
        "print(sample)\n",
        "print()\n",
        "\n",
        "\n",
        "# axis = None 일때 (행,열 따지지 않을 때)\n",
        "print(\"sum\",sample.sum()) # 모든 요소의 합\n",
        "print(\"mead\",sample.mean()) # 모든 요소의 합 / 9\n",
        "print(\"std\",sample.std()) # 표준편차\n",
        "print(\"max\",sample.max()) # 모든 요수 중의 큰값\n",
        "print(\"min\",sample.min()) # 모든 요수 중의 작은값 \n",
        "\n",
        "\n",
        "print()\n",
        "\n",
        "\n",
        "# axis = 0 일때 (즉,열만 판단할때 )\n",
        "print(\"sum\",sample.sum(axis=0)) # 각각 열의  합\n",
        "print(\"mead\",sample.mean(axis=0)) # 각각 열의 합 / 9\n",
        "print(\"std\",sample.std(axis=0)) # 표준편차\n",
        "print(\"max\",sample.max(axis=0)) #각 열 중에 가장  큰값\n",
        "print(\"min\",sample.min(axis=0)) #각 열 중에 가장 작은값\n",
        "\n",
        "print()\n",
        "\n",
        "# axis = 1 일때 (행끼리 판단할 때)\n",
        "print(\"sum\",sample.sum(axis=1)) # 각 행의 합\n",
        "print(\"mead\",sample.mean(axis=1)) # 각 행의 합 / 9\n",
        "print(\"std\",sample.std(axis=1)) # 표준편차\n",
        "print(\"max\",sample.max(axis=1)) # 각 행 중의 큰값\n",
        "print(\"min\",sample.min(axis=1)) # 각 행 중의 작은값 \n"
      ],
      "execution_count": null,
      "outputs": [
        {
          "output_type": "stream",
          "text": [
            "[[1 2 3]\n",
            " [4 5 6]\n",
            " [7 8 9]]\n",
            "\n",
            "sum 45\n",
            "mead 5.0\n",
            "std 2.581988897471611\n",
            "max 9\n",
            "min 1\n",
            "\n",
            "sum [12 15 18]\n",
            "mead [4. 5. 6.]\n",
            "std [2.44948974 2.44948974 2.44948974]\n",
            "max [7 8 9]\n",
            "min [1 2 3]\n",
            "\n",
            "sum [ 6 15 24]\n",
            "mead [2. 5. 8.]\n",
            "std [0.81649658 0.81649658 0.81649658]\n",
            "max [3 6 9]\n",
            "min [1 4 7]\n"
          ],
          "name": "stdout"
        }
      ]
    },
    {
      "cell_type": "markdown",
      "metadata": {
        "id": "JZ-3j48kq0HB"
      },
      "source": [
        "7 일곱번째 실습 - 데이터 조회를 위한 인덱싱"
      ]
    },
    {
      "cell_type": "code",
      "metadata": {
        "colab": {
          "base_uri": "https://localhost:8080/"
        },
        "id": "HP-TSHnmrBPb",
        "outputId": "7c2b598d-3af3-4af3-9aca-9fedf56f57de"
      },
      "source": [
        "import numpy as np\n",
        "\n",
        "# sample 샘플 데이터 생성\n",
        "sample = np.arange(5,15)\n",
        "print(sample)\n",
        "print(\"sample[3]:\",sample[3])\n",
        "sample[3]=0\n",
        "print(\"sample[3]:\",sample[3])\n",
        "\n",
        "print()\n",
        "\n",
        "# 2차원 샘플데이터 생성 \n",
        "data = np.arange(16).reshape((4,4))\n",
        "print(data)\n",
        "print(\"data[2,3]:\",data[2,3])\n",
        "data[2,3]=0\n",
        "print(\"data[2,3]:\",data[2,3])\n",
        "\n",
        "print()\n",
        "\n",
        "# 3차원 샘플데이터 생성\n",
        "arr = np.arange(16).reshape(4,2,2) #층:4 개 열:2 ,행:2\n",
        "print(arr)\n",
        "print(\"arr[1,1,1]:\",arr[1,1,1]) # 1층, 행,열 -1 인 값 : 7\n",
        "print(\"arr[2,1,0]:\",arr[2,1,0]) # 8\n",
        "print(\"arr[3,1,1]:\",arr[3,1,1])   # "
      ],
      "execution_count": null,
      "outputs": [
        {
          "output_type": "stream",
          "text": [
            "[ 5  6  7  8  9 10 11 12 13 14]\n",
            "sample[3]: 8\n",
            "sample[3]: 0\n",
            "\n",
            "[[ 0  1  2  3]\n",
            " [ 4  5  6  7]\n",
            " [ 8  9 10 11]\n",
            " [12 13 14 15]]\n",
            "data[2,3]: 11\n",
            "data[2,3]: 0\n",
            "\n",
            "[[[ 0  1]\n",
            "  [ 2  3]]\n",
            "\n",
            " [[ 4  5]\n",
            "  [ 6  7]]\n",
            "\n",
            " [[ 8  9]\n",
            "  [10 11]]\n",
            "\n",
            " [[12 13]\n",
            "  [14 15]]]\n",
            "arr[1,1,1]: 7\n",
            "arr[2,1,0]: 10\n",
            "arr[3,1,1]: 15\n"
          ],
          "name": "stdout"
        }
      ]
    },
    {
      "cell_type": "markdown",
      "metadata": {
        "id": "tR8NmpDbGbTe"
      },
      "source": [
        "8 여덟번째 실습-데이터 조회를 위한 슬라이싱\n"
      ]
    },
    {
      "cell_type": "code",
      "metadata": {
        "colab": {
          "base_uri": "https://localhost:8080/"
        },
        "id": "tnqq2YS8Gk09",
        "outputId": "5bbc2534-00f0-4d56-ec70-59d6275a6be6"
      },
      "source": [
        "import numpy as np\n",
        "\n",
        "# 1차원 샘플 데이터 생성 \n",
        "data = np.arange(1,15)\n",
        "print(data)\n",
        "\n",
        "# 슬라이싱 실습 - python 과 동일하게 이루어짐 - 1차원에서만 \n",
        "print(\"1차원 슬라이싱\")\n",
        "print(data[2:5]) #2~4 자리의 수 ..\n",
        "\n",
        "print(data[:5])  #1~4 자리의 수 \n",
        "print(data[7:]) # 7~전체\n",
        "print(data[2:-1]) # 2부터 -1(마지막자리) 의 수까지  \n",
        "print(data[:]) # 전체 data 출력\n",
        "\n",
        "print()\n",
        "\n",
        "# 2차원 데이터 출력 - 행,열 고려해서 슬라이싱\n",
        "# 3차원 데이터 출력 - 행,열, 축 고려해서 슬라이싱! \n",
        "data = np.arange(1,17).reshape(4,4)\n",
        "print(data)\n",
        "print(\"2차원 슬라이싱\") #행& 축의 정보 모두 써워야 한다\n",
        "print(data[1:3, 1:3]) #행1~2 부터, 열 1~2 까지 공통된 부분 출력 \n",
        "print()\n",
        "print(data[:3, 0:1]) # 행 처음~2, 열 0 \n",
        "print()\n",
        "print(data[3:,:]) # 행 3~전체 , 열 전체\n",
        "print(data[:,2])  # 행 전체, 열 2번째\n",
        "print(data[:, :])  # 행,열 전체 \n",
        "\n",
        "print()\n",
        "\n",
        "# 데이터 슬라이싱 - 역방향 방법 - Negative index \n",
        "print(data[:,1:-1]) # 행-전체, 열- 1부터 (-1) 의 값 전까지  \n",
        "print(data[:,-1]) # 행전체, 열 - -1 만  \n"
      ],
      "execution_count": null,
      "outputs": [
        {
          "output_type": "stream",
          "text": [
            "[ 1  2  3  4  5  6  7  8  9 10 11 12 13 14]\n",
            "1차원 슬라이싱\n",
            "[3 4 5]\n",
            "[1 2 3 4 5]\n",
            "[ 8  9 10 11 12 13 14]\n",
            "[ 3  4  5  6  7  8  9 10 11 12 13]\n",
            "[ 1  2  3  4  5  6  7  8  9 10 11 12 13 14]\n",
            "\n",
            "[[ 1  2  3  4]\n",
            " [ 5  6  7  8]\n",
            " [ 9 10 11 12]\n",
            " [13 14 15 16]]\n",
            "2차원 슬라이싱\n",
            "[[ 6  7]\n",
            " [10 11]]\n",
            "\n",
            "[[1]\n",
            " [5]\n",
            " [9]]\n",
            "\n",
            "[[13 14 15 16]]\n",
            "[ 3  7 11 15]\n",
            "[[ 1  2  3  4]\n",
            " [ 5  6  7  8]\n",
            " [ 9 10 11 12]\n",
            " [13 14 15 16]]\n",
            "\n",
            "[[ 2  3]\n",
            " [ 6  7]\n",
            " [10 11]\n",
            " [14 15]]\n",
            "[ 4  8 12 16]\n"
          ],
          "name": "stdout"
        }
      ]
    },
    {
      "cell_type": "markdown",
      "metadata": {
        "id": "w3UJrNMtYmJM"
      },
      "source": [
        "9. 아홉번째 실습 - 데이터 정렬"
      ]
    },
    {
      "cell_type": "code",
      "metadata": {
        "colab": {
          "base_uri": "https://localhost:8080/"
        },
        "id": "onLJfWeMYvOu",
        "outputId": "9abd83c3-6795-4931-89f8-937a2a6a4658"
      },
      "source": [
        "import numpy as np\n",
        "\n",
        "# 샘플 데이터 생성\n",
        "sample = np.array([2,5,8,1])\n",
        "print(\"or\",sample)\n",
        "\n",
        "# 정렬 - 원본데이터를 정렬해도 사본으로 저장되어 출력 됨 즉, 원본 변경 안됨 - 오름차순 정리만 가능\n",
        "result = np.sort(sample)\n",
        "print(\"re\",result) \n",
        "print(\"or\",sample)\n",
        "three = sample.sort()\n",
        "print(\"re1\",sample)\n",
        "print(\"re\",three)\n",
        "\n",
        "print()\n",
        "\n",
        "# 내림차순과 역출력의 차의\n",
        "#1. 역출력 - 정렬함수 안에서 negative func 사용\n",
        "print(\"ascending\",sample[::-1])\n",
        "# 내림차순 - 1. sort 2. negative func 사용\n",
        "arr = np.sort(sample)\n",
        "result = arr[::-1]\n",
        "print(\"as2\",result)\n",
        "\n",
        "print()\n",
        "\n",
        "# 2차원, 3차원 정렬 방법 - axis 이용\n",
        "# 샘플데이터 생성\n",
        "sample = np.array([[9,11],[5,1]]) # 2차원\n",
        "print(sample)\n",
        "\n",
        "# 2차원 배열 정렬 - 중심 축을 정해야 한다 ex> axis=0 또는  axis=1\n",
        "result = np.sort(sample,axis=0)\n",
        "print(result) #axis=0 은 열끼리 정렬해서 나옴\n",
        "\n",
        "# axis=1 사용\n",
        "result = np.sort(sample, axis=1)\n",
        "print(result) # 이떄는 행끼리 정렬되어 나옴\n",
        "\n",
        "# argsort() 함수 이용해서 인덱스 값만 반환\n",
        "\n",
        "name = np.array(['kim','lee','park','cho'])\n",
        "score = np.array([78,32,100,96])\n",
        "\n",
        "sort_list = np.argsort(score) #score 를 정렬 32,76,96,100 -> 1,0,3,2로 index 정렬\n",
        "print(sort_list)\n",
        "\n",
        "# 정렬된 것을가지고 이름과 매치해서 이름을 순위대로 출력하는 방법\n",
        "print(name[sort_list]) #1,0,3,2 -> 0,1,2,3->lee,kim,cho,park\n"
      ],
      "execution_count": null,
      "outputs": [
        {
          "output_type": "stream",
          "name": "stdout",
          "text": [
            "or [2 5 8 1]\n",
            "re [1 2 5 8]\n",
            "or [2 5 8 1]\n",
            "re1 [1 2 5 8]\n",
            "re None\n",
            "\n",
            "ascending [8 5 2 1]\n",
            "as2 [8 5 2 1]\n",
            "\n",
            "[[ 9 11]\n",
            " [ 5  1]]\n",
            "[[ 5  1]\n",
            " [ 9 11]]\n",
            "[[ 9 11]\n",
            " [ 1  5]]\n",
            "[1 0 3 2]\n",
            "['lee' 'kim' 'cho' 'park']\n"
          ]
        }
      ]
    }
  ]
}